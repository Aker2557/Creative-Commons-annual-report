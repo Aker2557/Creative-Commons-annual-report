{
 "cells": [
  {
   "cell_type": "code",
   "execution_count": 35,
   "metadata": {
    "collapsed": true
   },
   "outputs": [],
   "source": [
    "#!/usr/bin/python\n",
    "import pymysql\n",
    "import pandas as pd\n",
    "import numpy as np\n",
    "import datetime as dt\n",
    "import io\n",
    "from impala.dbapi import connect as impala_conn\n",
    "from impala.util import as_pandas\n",
    "\n",
    "def try_decode(cell):\n",
    "    try:\n",
    "        return cell.decode(encoding = \"utf-8\")\n",
    "    except AttributeError:\n",
    "        return cell\n",
    "    \n",
    "def decode_data(d):\n",
    "    return [{try_decode(key): try_decode(val) for key, val in item.items()} for item in d]\n",
    "\n",
    "def query_db(query, db = \"mariadb\", fmt = \"pandas\"):\n",
    "    if db not in [\"mariadb\", \"hadoop\"]:\n",
    "        raise ValueError(\"The db should be `mariadb` or `hadoop`.\")\n",
    "    if fmt not in [\"pandas\", \"raw\"]:\n",
    "        raise ValueError(\"The format should be either `pandas` or `raw`.\")\n",
    "    \n",
    "    if db == \"mariadb\":\n",
    "        try:\n",
    "            conn = pymysql.connect(\n",
    "                host = \"analytics-store.eqiad.wmnet\",\n",
    "                read_default_file = '/etc/mysql/conf.d/research-client.cnf',\n",
    "                charset = 'utf8mb4',\n",
    "                db='staging',\n",
    "                cursorclass=pymysql.cursors.DictCursor\n",
    "            )\n",
    "            if fmt == \"pandas\":\n",
    "                result = pd.read_sql_query(query, conn)\n",
    "                # Turn any binary data into strings\n",
    "                result = result.applymap(try_decode)\n",
    "            elif fmt == \"raw\":\n",
    "                cursor = conn.cursor()\n",
    "                cursor.execute(query)\n",
    "                result = cursor.fetchall()\n",
    "                result = decode_data(result)\n",
    "        finally:\n",
    "            conn.close()\n",
    "        \n",
    "    elif db == \"hadoop\":\n",
    "        try:\n",
    "            hive_conn = impala_conn(host='analytics1003.eqiad.wmnet', port=10000, auth_mechanism='PLAIN')\n",
    "            hive_cursor = hive_conn.cursor()\n",
    "            hive_cursor.execute(query)\n",
    "            if fmt == \"pandas\":\n",
    "                try:\n",
    "                    result = as_pandas(hive_cursor)\n",
    "                # Happens if there are no results (as with an INSERT INTO query)\n",
    "                except TypeError:\n",
    "                    pass\n",
    "            elif fmt == \"raw\":\n",
    "                result = hive_cursor.fetchall()\n",
    "        finally:\n",
    "            hive_conn.close()\n",
    "    \n",
    "    try:\n",
    "        return result\n",
    "    except UnboundLocalError:\n",
    "        pass"
   ]
  },
  {
   "cell_type": "code",
   "execution_count": 30,
   "metadata": {
    "collapsed": false
   },
   "outputs": [],
   "source": [
    "articles_q = \"\"\"\n",
    "select database() as wiki, ss_good_articles as articles\n",
    "from site_stats;\n",
    "\"\"\"\n",
    "\n",
    "with open(\"num_articles.sql\", mode = \"w\") as f:\n",
    "    f.write(articles_q)"
   ]
  },
  {
   "cell_type": "markdown",
   "metadata": {},
   "source": [
    "# Wikipedia articles"
   ]
  },
  {
   "cell_type": "code",
   "execution_count": 31,
   "metadata": {
    "collapsed": true
   },
   "outputs": [],
   "source": [
    "wp_dbs = query_db(\"select site_global_key from enwiki.sites where site_group = 'wikipedia'\")\n",
    "wp_dbs.to_csv(\"wikipedia_dbs.tsv\", sep = \"\\t\", header = False, index = False)"
   ]
  },
  {
   "cell_type": "code",
   "execution_count": 32,
   "metadata": {
    "collapsed": false
   },
   "outputs": [
    {
     "name": "stderr",
     "output_type": "stream",
     "text": [
      "Executing query on aawiki\n",
      "Executing query on abwiki\n",
      "Executing query on acewiki\n",
      "Executing query on afwiki\n",
      "Executing query on akwiki\n",
      "Executing query on alswiki\n",
      "Executing query on amwiki\n",
      "Executing query on anwiki\n",
      "Executing query on angwiki\n",
      "Executing query on arwiki\n",
      "Executing query on arcwiki\n",
      "Executing query on arzwiki\n",
      "Executing query on aswiki\n",
      "Executing query on astwiki\n",
      "Executing query on avwiki\n",
      "Executing query on aywiki\n",
      "Executing query on azwiki\n",
      "Executing query on bawiki\n",
      "Executing query on barwiki\n",
      "Executing query on bat_smgwiki\n",
      "Executing query on bclwiki\n",
      "Executing query on bewiki\n",
      "Executing query on be_x_oldwiki\n",
      "Executing query on bgwiki\n",
      "Executing query on bhwiki\n",
      "Executing query on biwiki\n",
      "Executing query on bjnwiki\n",
      "Executing query on bmwiki\n",
      "Executing query on bnwiki\n",
      "Executing query on bowiki\n",
      "Executing query on bpywiki\n",
      "Executing query on brwiki\n",
      "Executing query on bswiki\n",
      "Executing query on bugwiki\n",
      "Executing query on bxrwiki\n",
      "Executing query on cawiki\n",
      "Executing query on cbk_zamwiki\n",
      "Executing query on cdowiki\n",
      "Executing query on cewiki\n",
      "Executing query on cebwiki\n",
      "Executing query on chwiki\n",
      "Executing query on chowiki\n",
      "Executing query on chrwiki\n",
      "Executing query on chywiki\n",
      "Executing query on ckbwiki\n",
      "Executing query on cowiki\n",
      "Executing query on crwiki\n",
      "Executing query on crhwiki\n",
      "Executing query on cswiki\n",
      "Executing query on csbwiki\n",
      "Executing query on cuwiki\n",
      "Executing query on cvwiki\n",
      "Executing query on cywiki\n",
      "Executing query on dawiki\n",
      "Executing query on dewiki\n",
      "Executing query on diqwiki\n",
      "Executing query on dsbwiki\n",
      "Executing query on dvwiki\n",
      "Executing query on dzwiki\n",
      "Executing query on eewiki\n",
      "Executing query on elwiki\n",
      "Executing query on emlwiki\n",
      "Executing query on enwiki\n",
      "Executing query on eowiki\n",
      "Executing query on eswiki\n",
      "Executing query on etwiki\n",
      "Executing query on euwiki\n",
      "Executing query on extwiki\n",
      "Executing query on fawiki\n",
      "Executing query on ffwiki\n",
      "Executing query on fiwiki\n",
      "Executing query on fiu_vrowiki\n",
      "Executing query on fjwiki\n",
      "Executing query on fowiki\n",
      "Executing query on frwiki\n",
      "Executing query on frpwiki\n",
      "Executing query on frrwiki\n",
      "Executing query on furwiki\n",
      "Executing query on fywiki\n",
      "Executing query on gawiki\n",
      "Executing query on gagwiki\n",
      "Executing query on ganwiki\n",
      "Executing query on gdwiki\n",
      "Executing query on glwiki\n",
      "Executing query on glkwiki\n",
      "Executing query on gnwiki\n",
      "Executing query on gotwiki\n",
      "Executing query on guwiki\n",
      "Executing query on gvwiki\n",
      "Executing query on hawiki\n",
      "Executing query on hakwiki\n",
      "Executing query on hawwiki\n",
      "Executing query on hewiki\n",
      "Executing query on hiwiki\n",
      "Executing query on hifwiki\n",
      "Executing query on howiki\n",
      "Executing query on hrwiki\n",
      "Executing query on hsbwiki\n",
      "Executing query on htwiki\n",
      "Executing query on huwiki\n",
      "Executing query on hywiki\n",
      "Executing query on hzwiki\n",
      "Executing query on iawiki\n",
      "Executing query on idwiki\n",
      "Executing query on iewiki\n",
      "Executing query on igwiki\n",
      "Executing query on iiwiki\n",
      "Executing query on ikwiki\n",
      "Executing query on ilowiki\n",
      "Executing query on iowiki\n",
      "Executing query on iswiki\n",
      "Executing query on itwiki\n",
      "Executing query on iuwiki\n",
      "Executing query on jawiki\n",
      "Executing query on jbowiki\n",
      "Executing query on jvwiki\n",
      "Executing query on kawiki\n",
      "Executing query on kaawiki\n",
      "Executing query on kabwiki\n",
      "Executing query on kbdwiki\n",
      "Executing query on kgwiki\n",
      "Executing query on kiwiki\n",
      "Executing query on kjwiki\n",
      "Executing query on kkwiki\n",
      "Executing query on klwiki\n",
      "Executing query on kmwiki\n",
      "Executing query on knwiki\n",
      "Executing query on kowiki\n",
      "Executing query on koiwiki\n",
      "Executing query on krwiki\n",
      "Executing query on krcwiki\n",
      "Executing query on kswiki\n",
      "Executing query on kshwiki\n",
      "Executing query on kuwiki\n",
      "Executing query on kvwiki\n",
      "Executing query on kwwiki\n",
      "Executing query on kywiki\n",
      "Executing query on lawiki\n",
      "Executing query on ladwiki\n",
      "Executing query on lbwiki\n",
      "Executing query on lbewiki\n",
      "Executing query on lezwiki\n",
      "Executing query on lgwiki\n",
      "Executing query on liwiki\n",
      "Executing query on lijwiki\n",
      "Executing query on lmowiki\n",
      "Executing query on lnwiki\n",
      "Executing query on lowiki\n",
      "Executing query on ltwiki\n",
      "Executing query on ltgwiki\n",
      "Executing query on lvwiki\n",
      "Executing query on map_bmswiki\n",
      "Executing query on mdfwiki\n",
      "Executing query on mgwiki\n",
      "Executing query on mhwiki\n",
      "Executing query on mhrwiki\n",
      "Executing query on miwiki\n",
      "Executing query on mkwiki\n",
      "Executing query on mlwiki\n",
      "Executing query on mnwiki\n",
      "Executing query on mowiki\n",
      "Executing query on mrwiki\n",
      "Executing query on mrjwiki\n",
      "Executing query on mswiki\n",
      "Executing query on mtwiki\n",
      "Executing query on muswiki\n",
      "Executing query on mwlwiki\n",
      "Executing query on mywiki\n",
      "Executing query on myvwiki\n",
      "Executing query on mznwiki\n",
      "Executing query on nawiki\n",
      "Executing query on nahwiki\n",
      "Executing query on napwiki\n",
      "Executing query on ndswiki\n",
      "Executing query on nds_nlwiki\n",
      "Executing query on newiki\n",
      "Executing query on newwiki\n",
      "Executing query on ngwiki\n",
      "Executing query on nlwiki\n",
      "Executing query on nnwiki\n",
      "Executing query on nowiki\n",
      "Executing query on novwiki\n",
      "Executing query on nrmwiki\n",
      "Executing query on nsowiki\n",
      "Executing query on nvwiki\n",
      "Executing query on nywiki\n",
      "Executing query on ocwiki\n",
      "Executing query on omwiki\n",
      "Executing query on orwiki\n",
      "Executing query on oswiki\n",
      "Executing query on pawiki\n",
      "Executing query on pagwiki\n",
      "Executing query on pamwiki\n",
      "Executing query on papwiki\n",
      "Executing query on pcdwiki\n",
      "Executing query on pdcwiki\n",
      "Executing query on pflwiki\n",
      "Executing query on piwiki\n",
      "Executing query on pihwiki\n",
      "Executing query on plwiki\n",
      "Executing query on pmswiki\n",
      "Executing query on pnbwiki\n",
      "Executing query on pntwiki\n",
      "Executing query on pswiki\n",
      "Executing query on ptwiki\n",
      "Executing query on quwiki\n",
      "Executing query on rmwiki\n",
      "Executing query on rmywiki\n",
      "Executing query on rnwiki\n",
      "Executing query on rowiki\n",
      "Executing query on roa_rupwiki\n",
      "Executing query on roa_tarawiki\n",
      "Executing query on ruwiki\n",
      "Executing query on ruewiki\n",
      "Executing query on rwwiki\n",
      "Executing query on sawiki\n",
      "Executing query on sahwiki\n",
      "Executing query on scwiki\n",
      "Executing query on scnwiki\n",
      "Executing query on scowiki\n",
      "Executing query on sdwiki\n",
      "Executing query on sewiki\n",
      "Executing query on sgwiki\n",
      "Executing query on shwiki\n",
      "Executing query on siwiki\n",
      "Executing query on simplewiki\n",
      "Executing query on skwiki\n",
      "Executing query on slwiki\n",
      "Executing query on smwiki\n",
      "Executing query on snwiki\n",
      "Executing query on sowiki\n",
      "Executing query on sqwiki\n",
      "Executing query on srwiki\n",
      "Executing query on srnwiki\n",
      "Executing query on sswiki\n",
      "Executing query on stwiki\n",
      "Executing query on stqwiki\n",
      "Executing query on suwiki\n",
      "Executing query on svwiki\n",
      "Executing query on swwiki\n",
      "Executing query on szlwiki\n",
      "Executing query on tawiki\n",
      "Executing query on tewiki\n",
      "Executing query on tetwiki\n",
      "Executing query on tgwiki\n",
      "Executing query on thwiki\n",
      "Executing query on tiwiki\n",
      "Executing query on tkwiki\n",
      "Executing query on tlwiki\n",
      "Executing query on tnwiki\n",
      "Executing query on towiki\n",
      "Executing query on tpiwiki\n",
      "Executing query on trwiki\n",
      "Executing query on tswiki\n",
      "Executing query on ttwiki\n",
      "Executing query on tumwiki\n",
      "Executing query on twwiki\n",
      "Executing query on tywiki\n",
      "Executing query on udmwiki\n",
      "Executing query on ugwiki\n",
      "Executing query on ukwiki\n",
      "Executing query on urwiki\n",
      "Executing query on uzwiki\n",
      "Executing query on vewiki\n",
      "Executing query on vecwiki\n",
      "Executing query on vepwiki\n",
      "Executing query on viwiki\n",
      "Executing query on vlswiki\n",
      "Executing query on vowiki\n",
      "Executing query on wawiki\n",
      "Executing query on warwiki\n",
      "Executing query on wowiki\n",
      "Executing query on wuuwiki\n",
      "Executing query on xalwiki\n",
      "Executing query on xhwiki\n",
      "Executing query on xmfwiki\n",
      "Executing query on yiwiki\n",
      "Executing query on yowiki\n",
      "Executing query on zawiki\n",
      "Executing query on zeawiki\n",
      "Executing query on zhwiki\n",
      "Executing query on zh_classicalwiki\n",
      "Executing query on zh_min_nanwiki\n",
      "Executing query on zh_yuewiki\n",
      "Executing query on zuwiki\n",
      "Executing query on minwiki\n",
      "Executing query on tyvwiki\n",
      "Executing query on maiwiki\n",
      "Executing query on lrcwiki\n",
      "Executing query on gomwiki\n",
      "Executing query on azbwiki\n",
      "Executing query on adywiki\n",
      "Executing query on jamwiki\n",
      "Executing query on tcywiki\n",
      "Executing query on olowiki\n",
      "Executing query on dtywiki\n",
      "Executing query on atjwiki\n",
      "Executing query on kbpwiki\n",
      "Executing query on dinwiki\n"
     ]
    }
   ],
   "source": [
    "%%bash --out articles_by_wp\n",
    "multiquery num_articles.sql -h analytics-store.eqiad.wmnet -d wikipedia_dbs.tsv \\\n",
    "--defaults-file=/etc/mysql/conf.d/research-client.cnf"
   ]
  },
  {
   "cell_type": "code",
   "execution_count": 36,
   "metadata": {
    "collapsed": false
   },
   "outputs": [],
   "source": [
    "art = pd.read_table(io.StringIO(initial_value = articles_by_wp))"
   ]
  },
  {
   "cell_type": "code",
   "execution_count": 38,
   "metadata": {
    "collapsed": false
   },
   "outputs": [
    {
     "data": {
      "text/plain": [
       "46736979"
      ]
     },
     "execution_count": 38,
     "metadata": {},
     "output_type": "execute_result"
    }
   ],
   "source": [
    "art[\"articles\"].sum()"
   ]
  },
  {
   "cell_type": "markdown",
   "metadata": {},
   "source": [
    "# Wiktionary entries"
   ]
  },
  {
   "cell_type": "code",
   "execution_count": 39,
   "metadata": {
    "collapsed": true
   },
   "outputs": [],
   "source": [
    "wp_dbs = query_db(\"select site_global_key from enwiki.sites where site_group = 'wiktionary'\")\n",
    "wp_dbs.to_csv(\"wiktionary_dbs.tsv\", sep = \"\\t\", header = False, index = False)"
   ]
  },
  {
   "cell_type": "code",
   "execution_count": 40,
   "metadata": {
    "collapsed": false
   },
   "outputs": [
    {
     "name": "stderr",
     "output_type": "stream",
     "text": [
      "Executing query on aawiktionary\n",
      "Executing query on abwiktionary\n",
      "Executing query on afwiktionary\n",
      "Executing query on akwiktionary\n",
      "Executing query on alswiktionary\n",
      "Executing query on amwiktionary\n",
      "Executing query on anwiktionary\n",
      "Executing query on angwiktionary\n",
      "Executing query on arwiktionary\n",
      "Executing query on aswiktionary\n",
      "Executing query on astwiktionary\n",
      "Executing query on avwiktionary\n",
      "Executing query on aywiktionary\n",
      "Executing query on azwiktionary\n",
      "Executing query on bewiktionary\n",
      "Executing query on bgwiktionary\n",
      "Executing query on bhwiktionary\n",
      "Executing query on biwiktionary\n",
      "Executing query on bmwiktionary\n",
      "Executing query on bnwiktionary\n",
      "Executing query on bowiktionary\n",
      "Executing query on brwiktionary\n",
      "Executing query on bswiktionary\n",
      "Executing query on cawiktionary\n",
      "Executing query on chwiktionary\n",
      "Executing query on chrwiktionary\n",
      "Executing query on cowiktionary\n",
      "Executing query on crwiktionary\n",
      "Executing query on cswiktionary\n",
      "Executing query on csbwiktionary\n",
      "Executing query on cywiktionary\n",
      "Executing query on dawiktionary\n",
      "Executing query on dewiktionary\n",
      "Executing query on dvwiktionary\n",
      "Executing query on dzwiktionary\n",
      "Executing query on elwiktionary\n",
      "Executing query on enwiktionary\n",
      "Executing query on eowiktionary\n",
      "Executing query on eswiktionary\n",
      "Executing query on etwiktionary\n",
      "Executing query on euwiktionary\n",
      "Executing query on fawiktionary\n",
      "Executing query on fiwiktionary\n",
      "Executing query on fjwiktionary\n",
      "Executing query on fowiktionary\n",
      "Executing query on frwiktionary\n",
      "Executing query on fywiktionary\n",
      "Executing query on gawiktionary\n",
      "Executing query on gdwiktionary\n",
      "Executing query on glwiktionary\n",
      "Executing query on gnwiktionary\n",
      "Executing query on guwiktionary\n",
      "Executing query on gvwiktionary\n",
      "Executing query on hawiktionary\n",
      "Executing query on hewiktionary\n",
      "Executing query on hiwiktionary\n",
      "Executing query on hrwiktionary\n",
      "Executing query on hsbwiktionary\n",
      "Executing query on huwiktionary\n",
      "Executing query on hywiktionary\n",
      "Executing query on iawiktionary\n",
      "Executing query on idwiktionary\n",
      "Executing query on iewiktionary\n",
      "Executing query on ikwiktionary\n",
      "Executing query on iowiktionary\n",
      "Executing query on iswiktionary\n",
      "Executing query on itwiktionary\n",
      "Executing query on iuwiktionary\n",
      "Executing query on jawiktionary\n",
      "Executing query on jbowiktionary\n",
      "Executing query on jvwiktionary\n",
      "Executing query on kawiktionary\n",
      "Executing query on kkwiktionary\n",
      "Executing query on klwiktionary\n",
      "Executing query on kmwiktionary\n",
      "Executing query on knwiktionary\n",
      "Executing query on kowiktionary\n",
      "Executing query on kswiktionary\n",
      "Executing query on kuwiktionary\n",
      "Executing query on kwwiktionary\n",
      "Executing query on kywiktionary\n",
      "Executing query on lawiktionary\n",
      "Executing query on lbwiktionary\n",
      "Executing query on liwiktionary\n",
      "Executing query on lnwiktionary\n",
      "Executing query on lowiktionary\n",
      "Executing query on ltwiktionary\n",
      "Executing query on lvwiktionary\n",
      "Executing query on mgwiktionary\n",
      "Executing query on mhwiktionary\n",
      "Executing query on miwiktionary\n",
      "Executing query on mkwiktionary\n",
      "Executing query on mlwiktionary\n",
      "Executing query on mnwiktionary\n",
      "Executing query on mowiktionary\n",
      "Executing query on mrwiktionary\n",
      "Executing query on mswiktionary\n",
      "Executing query on mtwiktionary\n",
      "Executing query on mywiktionary\n",
      "Executing query on nawiktionary\n",
      "Executing query on nahwiktionary\n",
      "Executing query on ndswiktionary\n",
      "Executing query on newiktionary\n",
      "Executing query on nlwiktionary\n",
      "Executing query on nnwiktionary\n",
      "Executing query on nowiktionary\n",
      "Executing query on ocwiktionary\n",
      "Executing query on omwiktionary\n",
      "Executing query on orwiktionary\n",
      "Executing query on pawiktionary\n",
      "Executing query on piwiktionary\n",
      "Executing query on plwiktionary\n",
      "Executing query on pnbwiktionary\n",
      "Executing query on pswiktionary\n",
      "Executing query on ptwiktionary\n",
      "Executing query on quwiktionary\n",
      "Executing query on rmwiktionary\n",
      "Executing query on rnwiktionary\n",
      "Executing query on rowiktionary\n",
      "Executing query on roa_rupwiktionary\n",
      "Executing query on ruwiktionary\n",
      "Executing query on rwwiktionary\n",
      "Executing query on sawiktionary\n",
      "Executing query on scwiktionary\n",
      "Executing query on scnwiktionary\n",
      "Executing query on sdwiktionary\n",
      "Executing query on sgwiktionary\n",
      "Executing query on shwiktionary\n",
      "Executing query on siwiktionary\n",
      "Executing query on simplewiktionary\n",
      "Executing query on skwiktionary\n",
      "Executing query on slwiktionary\n",
      "Executing query on smwiktionary\n",
      "Executing query on snwiktionary\n",
      "Executing query on sowiktionary\n",
      "Executing query on sqwiktionary\n",
      "Executing query on srwiktionary\n",
      "Executing query on sswiktionary\n",
      "Executing query on stwiktionary\n",
      "Executing query on suwiktionary\n",
      "Executing query on svwiktionary\n",
      "Executing query on swwiktionary\n",
      "Executing query on tawiktionary\n",
      "Executing query on tewiktionary\n",
      "Executing query on tgwiktionary\n",
      "Executing query on thwiktionary\n",
      "Executing query on tiwiktionary\n",
      "Executing query on tkwiktionary\n",
      "Executing query on tlwiktionary\n",
      "Executing query on tnwiktionary\n",
      "Executing query on towiktionary\n",
      "Executing query on tpiwiktionary\n",
      "Executing query on trwiktionary\n",
      "Executing query on tswiktionary\n",
      "Executing query on ttwiktionary\n",
      "Executing query on twwiktionary\n",
      "Executing query on ugwiktionary\n",
      "Executing query on ukwiktionary\n",
      "Executing query on urwiktionary\n",
      "Executing query on uzwiktionary\n",
      "Executing query on viwiktionary\n",
      "Executing query on vowiktionary\n",
      "Executing query on wawiktionary\n",
      "Executing query on wowiktionary\n",
      "Executing query on xhwiktionary\n",
      "Executing query on yiwiktionary\n",
      "Executing query on yowiktionary\n",
      "Executing query on zawiktionary\n",
      "Executing query on zhwiktionary\n",
      "Executing query on zh_min_nanwiktionary\n",
      "Executing query on zuwiktionary\n",
      "Executing query on vecwiktionary\n"
     ]
    }
   ],
   "source": [
    "%%bash --out entries_by_wt\n",
    "multiquery num_articles.sql -h analytics-store.eqiad.wmnet -d wiktionary_dbs.tsv \\\n",
    "--defaults-file=/etc/mysql/conf.d/research-client.cnf"
   ]
  },
  {
   "cell_type": "code",
   "execution_count": 41,
   "metadata": {
    "collapsed": true
   },
   "outputs": [],
   "source": [
    "ent = pd.read_table(io.StringIO(initial_value = entries_by_wt))"
   ]
  },
  {
   "cell_type": "code",
   "execution_count": 43,
   "metadata": {
    "collapsed": false
   },
   "outputs": [
    {
     "data": {
      "text/plain": [
       "27409180"
      ]
     },
     "execution_count": 43,
     "metadata": {},
     "output_type": "execute_result"
    }
   ],
   "source": [
    "ent[\"articles\"].sum()"
   ]
  },
  {
   "cell_type": "markdown",
   "metadata": {},
   "source": [
    "# Wikidata items"
   ]
  },
  {
   "cell_type": "code",
   "execution_count": 45,
   "metadata": {
    "collapsed": false
   },
   "outputs": [
    {
     "data": {
      "text/html": [
       "<div>\n",
       "<table border=\"1\" class=\"dataframe\">\n",
       "  <thead>\n",
       "    <tr style=\"text-align: right;\">\n",
       "      <th></th>\n",
       "      <th>ss_good_articles</th>\n",
       "    </tr>\n",
       "  </thead>\n",
       "  <tbody>\n",
       "    <tr>\n",
       "      <th>0</th>\n",
       "      <td>38687601</td>\n",
       "    </tr>\n",
       "  </tbody>\n",
       "</table>\n",
       "</div>"
      ],
      "text/plain": [
       "   ss_good_articles\n",
       "0          38687601"
      ]
     },
     "execution_count": 45,
     "metadata": {},
     "output_type": "execute_result"
    }
   ],
   "source": [
    "query_db(\"select ss_good_articles from wikidatawiki.site_stats\")"
   ]
  },
  {
   "cell_type": "markdown",
   "metadata": {},
   "source": [
    "# Commons files"
   ]
  },
  {
   "cell_type": "code",
   "execution_count": 8,
   "metadata": {
    "collapsed": false
   },
   "outputs": [],
   "source": [
    "licenses_q = \"\"\"\n",
    "select license, count(*) as files\n",
    "from\n",
    "(select\n",
    "  case\n",
    "    when cats like '%CC-BY-NC-ND%' then 'CC-BY-NC-ND'\n",
    "    when cats like '%CC-BY-NC-SA%' then 'CC-BY-NC-SA'\n",
    "    when cats like '%CC-BY-ND%' then 'CC-BY-ND'\n",
    "    when cats like '%CC-BY-SA%' then 'CC-BY-SA'\n",
    "    when cats like '%CC-BY-NC%' then 'CC-BY-NC'\n",
    "    when cats like '%CC-BY%' then 'CC-BY'\n",
    "    when cats like '%CC-SA%' then 'CC-SA'\n",
    "    when cats like '%CC-Zero%' then 'CC-0'\n",
    "    when cats like '%CC-PD%' then 'CC-PD'\n",
    "    else 'Other CC'\n",
    "  end as license\n",
    "  from\n",
    "  (select cl_from, group_concat(cl_to) as cats\n",
    "    from commonswiki.categorylinks\n",
    "    inner join\n",
    "      (select cat_title from commonswiki.category where\n",
    "        cat_title like 'CC-%' and\n",
    "        cat_title not like '%aircraft%' and\n",
    "        cat_title not regexp 'CC-[[:upper:][:digit:]]{3}'\n",
    "      ) cc_cats\n",
    "    on cat_title = cl_to\n",
    "    where cl_type = \"file\"\n",
    "    group by cl_from\n",
    "  ) cc_files\n",
    ") licenses\n",
    "group by license;\n",
    "\"\"\"\n",
    "\n",
    "licenses = query_db(licenses_q)"
   ]
  },
  {
   "cell_type": "code",
   "execution_count": 17,
   "metadata": {
    "collapsed": false
   },
   "outputs": [
    {
     "data": {
      "text/html": [
       "<div>\n",
       "<table border=\"1\" class=\"dataframe\">\n",
       "  <thead>\n",
       "    <tr style=\"text-align: right;\">\n",
       "      <th></th>\n",
       "      <th>license</th>\n",
       "      <th>files</th>\n",
       "    </tr>\n",
       "  </thead>\n",
       "  <tbody>\n",
       "    <tr>\n",
       "      <th>0</th>\n",
       "      <td>CC-0</td>\n",
       "      <td>2010188</td>\n",
       "    </tr>\n",
       "    <tr>\n",
       "      <th>1</th>\n",
       "      <td>CC-BY</td>\n",
       "      <td>6104697</td>\n",
       "    </tr>\n",
       "    <tr>\n",
       "      <th>2</th>\n",
       "      <td>CC-BY-NC</td>\n",
       "      <td>6171</td>\n",
       "    </tr>\n",
       "    <tr>\n",
       "      <th>3</th>\n",
       "      <td>CC-BY-NC-SA</td>\n",
       "      <td>231</td>\n",
       "    </tr>\n",
       "    <tr>\n",
       "      <th>4</th>\n",
       "      <td>CC-BY-ND</td>\n",
       "      <td>15</td>\n",
       "    </tr>\n",
       "    <tr>\n",
       "      <th>5</th>\n",
       "      <td>CC-BY-SA</td>\n",
       "      <td>25099307</td>\n",
       "    </tr>\n",
       "    <tr>\n",
       "      <th>6</th>\n",
       "      <td>CC-PD</td>\n",
       "      <td>3632883</td>\n",
       "    </tr>\n",
       "    <tr>\n",
       "      <th>7</th>\n",
       "      <td>CC-SA</td>\n",
       "      <td>2804</td>\n",
       "    </tr>\n",
       "    <tr>\n",
       "      <th>8</th>\n",
       "      <td>Other CC</td>\n",
       "      <td>1</td>\n",
       "    </tr>\n",
       "  </tbody>\n",
       "</table>\n",
       "</div>"
      ],
      "text/plain": [
       "       license     files\n",
       "0         CC-0   2010188\n",
       "1        CC-BY   6104697\n",
       "2     CC-BY-NC      6171\n",
       "3  CC-BY-NC-SA       231\n",
       "4     CC-BY-ND        15\n",
       "5     CC-BY-SA  25099307\n",
       "6        CC-PD   3632883\n",
       "7        CC-SA      2804\n",
       "8     Other CC         1"
      ]
     },
     "execution_count": 17,
     "metadata": {},
     "output_type": "execute_result"
    }
   ],
   "source": [
    "licenses.sort_values(\"license\")"
   ]
  },
  {
   "cell_type": "code",
   "execution_count": 12,
   "metadata": {
    "collapsed": false
   },
   "outputs": [
    {
     "data": {
      "text/plain": [
       "36856297"
      ]
     },
     "execution_count": 12,
     "metadata": {},
     "output_type": "execute_result"
    }
   ],
   "source": [
    "licenses[\"files\"].sum()"
   ]
  },
  {
   "cell_type": "code",
   "execution_count": null,
   "metadata": {
    "collapsed": false
   },
   "outputs": [],
   "source": [
    "media_types_q = \"\"\"\n",
    "select img_media_type, count(*) as files\n",
    "from\n",
    "(select distinct cl_from\n",
    "  from commonswiki.categorylinks\n",
    "  inner join\n",
    "    (select cat_title from commonswiki.category where\n",
    "      cat_title like 'CC-%' and\n",
    "      cat_title not like '%aircraft%' and\n",
    "      cat_title not regexp 'CC-[[:upper:][:digit:]]{3}'\n",
    "    ) cc_cats\n",
    "  on cat_title = cl_to\n",
    "  where cl_type = \"file\"\n",
    ") cc_files\n",
    "inner join commonswiki.page on cl_from = page_id\n",
    "inner join commonswiki.image on page_title = img_name\n",
    "group by img_media_type;\n",
    "\"\"\"\n",
    "\n",
    "media_types = query_db(media_types_q)"
   ]
  },
  {
   "cell_type": "code",
   "execution_count": 27,
   "metadata": {
    "collapsed": false
   },
   "outputs": [
    {
     "data": {
      "text/html": [
       "<div>\n",
       "<table border=\"1\" class=\"dataframe\">\n",
       "  <thead>\n",
       "    <tr style=\"text-align: right;\">\n",
       "      <th></th>\n",
       "      <th>img_media_type</th>\n",
       "      <th>files</th>\n",
       "    </tr>\n",
       "  </thead>\n",
       "  <tbody>\n",
       "    <tr>\n",
       "      <th>0</th>\n",
       "      <td>BITMAP</td>\n",
       "      <td>34988944</td>\n",
       "    </tr>\n",
       "    <tr>\n",
       "      <th>1</th>\n",
       "      <td>DRAWING</td>\n",
       "      <td>786768</td>\n",
       "    </tr>\n",
       "    <tr>\n",
       "      <th>2</th>\n",
       "      <td>AUDIO</td>\n",
       "      <td>774706</td>\n",
       "    </tr>\n",
       "    <tr>\n",
       "      <th>3</th>\n",
       "      <td>VIDEO</td>\n",
       "      <td>97442</td>\n",
       "    </tr>\n",
       "    <tr>\n",
       "      <th>4</th>\n",
       "      <td>MULTIMEDIA</td>\n",
       "      <td>4</td>\n",
       "    </tr>\n",
       "    <tr>\n",
       "      <th>5</th>\n",
       "      <td>OFFICE</td>\n",
       "      <td>218686</td>\n",
       "    </tr>\n",
       "  </tbody>\n",
       "</table>\n",
       "</div>"
      ],
      "text/plain": [
       "  img_media_type     files\n",
       "0         BITMAP  34988944\n",
       "1        DRAWING    786768\n",
       "2          AUDIO    774706\n",
       "3          VIDEO     97442\n",
       "4     MULTIMEDIA         4\n",
       "5         OFFICE    218686"
      ]
     },
     "execution_count": 27,
     "metadata": {},
     "output_type": "execute_result"
    }
   ],
   "source": [
    "media_types"
   ]
  },
  {
   "cell_type": "code",
   "execution_count": 28,
   "metadata": {
    "collapsed": false
   },
   "outputs": [
    {
     "data": {
      "text/plain": [
       "36866550"
      ]
     },
     "execution_count": 28,
     "metadata": {},
     "output_type": "execute_result"
    }
   ],
   "source": [
    "media_types[\"files\"].sum()"
   ]
  },
  {
   "cell_type": "markdown",
   "metadata": {},
   "source": [
    "## Total Commons files"
   ]
  },
  {
   "cell_type": "code",
   "execution_count": 47,
   "metadata": {
    "collapsed": false
   },
   "outputs": [
    {
     "data": {
      "text/html": [
       "<div>\n",
       "<table border=\"1\" class=\"dataframe\">\n",
       "  <thead>\n",
       "    <tr style=\"text-align: right;\">\n",
       "      <th></th>\n",
       "      <th>ss_images</th>\n",
       "    </tr>\n",
       "  </thead>\n",
       "  <tbody>\n",
       "    <tr>\n",
       "      <th>0</th>\n",
       "      <td>42744326</td>\n",
       "    </tr>\n",
       "  </tbody>\n",
       "</table>\n",
       "</div>"
      ],
      "text/plain": [
       "   ss_images\n",
       "0   42744326"
      ]
     },
     "execution_count": 47,
     "metadata": {},
     "output_type": "execute_result"
    }
   ],
   "source": [
    "query_db(\"select ss_images from commonswiki.site_stats\")"
   ]
  }
 ],
 "metadata": {
  "kernelspec": {
   "display_name": "Python 3",
   "language": "python",
   "name": "python3"
  },
  "language_info": {
   "codemirror_mode": {
    "name": "ipython",
    "version": 3
   },
   "file_extension": ".py",
   "mimetype": "text/x-python",
   "name": "python",
   "nbconvert_exporter": "python",
   "pygments_lexer": "ipython3",
   "version": "3.4.2"
  }
 },
 "nbformat": 4,
 "nbformat_minor": 1
}
